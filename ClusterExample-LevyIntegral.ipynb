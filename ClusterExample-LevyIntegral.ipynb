{
 "cells": [
  {
   "cell_type": "code",
   "execution_count": 1,
   "metadata": {
    "collapsed": true,
    "deletable": true,
    "editable": true
   },
   "outputs": [],
   "source": [
    "from ipyparallel import Client\n",
    "import numpy as np\n",
    "from functools import reduce\n",
    "import operator"
   ]
  },
  {
   "cell_type": "code",
   "execution_count": 2,
   "metadata": {
    "collapsed": true,
    "deletable": true,
    "editable": true
   },
   "outputs": [],
   "source": [
    "%%bash\n",
    "scancel -u battila93"
   ]
  },
  {
   "cell_type": "code",
   "execution_count": 3,
   "metadata": {
    "collapsed": true
   },
   "outputs": [],
   "source": [
    "N=2"
   ]
  },
  {
   "cell_type": "code",
   "execution_count": 4,
   "metadata": {
    "collapsed": false,
    "deletable": true,
    "editable": true
   },
   "outputs": [
    {
     "name": "stdout",
     "output_type": "stream",
     "text": [
      "Submitted batch job 1607024\n"
     ]
    }
   ],
   "source": [
    "%%bash\n",
    "sbatch -p hpc2005 -N 2 -B 1:2:1 run_ipengines.sh"
   ]
  },
  {
   "cell_type": "code",
   "execution_count": 8,
   "metadata": {
    "collapsed": false,
    "deletable": true,
    "editable": true
   },
   "outputs": [
    {
     "name": "stdout",
     "output_type": "stream",
     "text": [
      "             JOBID PARTITION     NAME     USER ST       TIME  NODES NODELIST(REASON)\n",
      "           1607024   hpc2005 run_ipen battila9  R       0:14      2 blade[07-08]\n"
     ]
    }
   ],
   "source": [
    "%%bash\n",
    "squeue -u battila93"
   ]
  },
  {
   "cell_type": "code",
   "execution_count": 9,
   "metadata": {
    "collapsed": false,
    "deletable": true,
    "editable": true
   },
   "outputs": [],
   "source": [
    "profile = open(\"slurm_profile\").read().replace(\"\\n\",\"\")\n",
    "\n",
    "c = Client(profile=profile)\n",
    "dv = c[:]"
   ]
  },
  {
   "cell_type": "code",
   "execution_count": 10,
   "metadata": {
    "collapsed": false,
    "deletable": true,
    "editable": true
   },
   "outputs": [
    {
     "data": {
      "text/plain": [
       "{'unassigned': 0,\n",
       " 0: {'completed': 0, 'queue': 0, 'tasks': 0},\n",
       " 1: {'completed': 0, 'queue': 0, 'tasks': 0}}"
      ]
     },
     "execution_count": 10,
     "metadata": {},
     "output_type": "execute_result"
    }
   ],
   "source": [
    "dv.queue_status()"
   ]
  },
  {
   "cell_type": "code",
   "execution_count": 11,
   "metadata": {
    "collapsed": true
   },
   "outputs": [],
   "source": [
    "def calcint(alphas):\n",
    "    import numpy as np\n",
    "    from KGInt import integrate\n",
    "    rs = np.linspace(2, 30., 2, np.double)\n",
    "    errors = np.array([1e-9]*2, np.double)\n",
    "    error_rngs = np.array([1e-9]*2, np.double)\n",
    "    results = []\n",
    "    for alpha in alphas:\n",
    "        results.append(integrate([alpha]*len(rs), rs, errors, error_rngs))\n",
    "    return results"
   ]
  },
  {
   "cell_type": "code",
   "execution_count": 12,
   "metadata": {
    "collapsed": false
   },
   "outputs": [],
   "source": [
    "alphas = np.linspace(0.5, 1.99, N*2)"
   ]
  },
  {
   "cell_type": "code",
   "execution_count": 13,
   "metadata": {
    "collapsed": true
   },
   "outputs": [],
   "source": [
    "cr = dv.map_async(calcint, list(zip(*[iter(alphas)]*N)) )"
   ]
  },
  {
   "cell_type": "code",
   "execution_count": 14,
   "metadata": {
    "collapsed": false
   },
   "outputs": [
    {
     "data": {
      "text/plain": [
       "[datetime.datetime(2017, 4, 30, 13, 43, 58, 38517, tzinfo=tzlocal()),\n",
       " datetime.datetime(2017, 4, 30, 13, 43, 58, 130553, tzinfo=tzlocal())]"
      ]
     },
     "execution_count": 14,
     "metadata": {},
     "output_type": "execute_result"
    }
   ],
   "source": [
    "cr.completed"
   ]
  },
  {
   "cell_type": "code",
   "execution_count": 15,
   "metadata": {
    "collapsed": false
   },
   "outputs": [
    {
     "data": {
      "text/plain": [
       "['->CPU: elapsed time = 108.0 ms\\n->CPU: elapsed time = 154.0 ms\\n',\n",
       " '->CPU: elapsed time = 170.0 ms\\n->CPU: elapsed time = 181.0 ms\\n']"
      ]
     },
     "execution_count": 15,
     "metadata": {},
     "output_type": "execute_result"
    }
   ],
   "source": [
    "cr.stdout"
   ]
  },
  {
   "cell_type": "code",
   "execution_count": 16,
   "metadata": {
    "collapsed": false
   },
   "outputs": [],
   "source": [
    "result = reduce(operator.concat, cr.get())"
   ]
  },
  {
   "cell_type": "code",
   "execution_count": 17,
   "metadata": {
    "collapsed": false
   },
   "outputs": [
    {
     "data": {
      "text/plain": [
       "[array([[  2.10883111e-02,   5.85118164e-11],\n",
       "        [  1.56770888e-02,   6.19125307e-11]]),\n",
       " array([[  1.75119376e-02,   2.94106926e-11],\n",
       "        [  1.45623132e-02,   3.10965486e-11]]),\n",
       " array([[  1.28546781e-02,   1.97221009e-11],\n",
       "        [  1.28337757e-02,   2.07229801e-11]]),\n",
       " array([[  8.34109004e-03,   1.48502951e-11],\n",
       "        [  1.06624595e-02,   1.53603794e-11]])]"
      ]
     },
     "execution_count": 17,
     "metadata": {},
     "output_type": "execute_result"
    }
   ],
   "source": [
    "result"
   ]
  },
  {
   "cell_type": "code",
   "execution_count": 18,
   "metadata": {
    "collapsed": true
   },
   "outputs": [],
   "source": [
    "%%bash\n",
    "\n",
    "scancel -u battila93"
   ]
  },
  {
   "cell_type": "code",
   "execution_count": null,
   "metadata": {
    "collapsed": true
   },
   "outputs": [],
   "source": []
  }
 ],
 "metadata": {
  "kernelspec": {
   "display_name": "Python 3",
   "language": "python",
   "name": "python3"
  },
  "language_info": {
   "codemirror_mode": {
    "name": "ipython",
    "version": 3
   },
   "file_extension": ".py",
   "mimetype": "text/x-python",
   "name": "python",
   "nbconvert_exporter": "python",
   "pygments_lexer": "ipython3",
   "version": "3.6.0"
  }
 },
 "nbformat": 4,
 "nbformat_minor": 2
}

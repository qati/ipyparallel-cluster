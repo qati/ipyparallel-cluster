{
 "cells": [
  {
   "cell_type": "code",
   "execution_count": 1,
   "metadata": {
    "collapsed": true
   },
   "outputs": [],
   "source": [
    "import numpy as np\n",
    "from ipyparallel import Client"
   ]
  },
  {
   "cell_type": "code",
   "execution_count": 2,
   "metadata": {
    "collapsed": false
   },
   "outputs": [],
   "source": [
    "c = Client(profile=\"condor\")"
   ]
  },
  {
   "cell_type": "code",
   "execution_count": 3,
   "metadata": {
    "collapsed": false
   },
   "outputs": [
    {
     "data": {
      "text/plain": [
       "{'unassigned': 0,\n",
       " 0: {'completed': 0, 'queue': 0, 'tasks': 0},\n",
       " 1: {'completed': 0, 'queue': 0, 'tasks': 0},\n",
       " 2: {'completed': 0, 'queue': 0, 'tasks': 0},\n",
       " 3: {'completed': 0, 'queue': 0, 'tasks': 0},\n",
       " 4: {'completed': 0, 'queue': 0, 'tasks': 0},\n",
       " 5: {'completed': 0, 'queue': 0, 'tasks': 0},\n",
       " 6: {'completed': 0, 'queue': 0, 'tasks': 0},\n",
       " 7: {'completed': 0, 'queue': 0, 'tasks': 0}}"
      ]
     },
     "execution_count": 3,
     "metadata": {},
     "output_type": "execute_result"
    }
   ],
   "source": [
    "c.queue_status()"
   ]
  },
  {
   "cell_type": "code",
   "execution_count": 4,
   "metadata": {
    "collapsed": false
   },
   "outputs": [],
   "source": [
    "dv=c[:]"
   ]
  },
  {
   "cell_type": "code",
   "execution_count": 5,
   "metadata": {
    "collapsed": true
   },
   "outputs": [],
   "source": [
    "def sq(x):\n",
    "    return x*x"
   ]
  },
  {
   "cell_type": "code",
   "execution_count": 6,
   "metadata": {
    "collapsed": true
   },
   "outputs": [],
   "source": [
    "v=np.linspace(0,1e8,1e7)"
   ]
  },
  {
   "cell_type": "code",
   "execution_count": 7,
   "metadata": {
    "collapsed": true
   },
   "outputs": [],
   "source": [
    "re=dv.map_async(sq, [v]*8)"
   ]
  },
  {
   "cell_type": "code",
   "execution_count": 9,
   "metadata": {
    "collapsed": false
   },
   "outputs": [
    {
     "data": {
      "text/plain": [
       "['ok', 'ok', 'ok', 'ok', 'ok', 'ok', 'ok', 'ok']"
      ]
     },
     "execution_count": 9,
     "metadata": {},
     "output_type": "execute_result"
    }
   ],
   "source": [
    "re.status"
   ]
  },
  {
   "cell_type": "code",
   "execution_count": 10,
   "metadata": {
    "collapsed": false
   },
   "outputs": [
    {
     "data": {
      "text/plain": [
       "11.924349"
      ]
     },
     "execution_count": 10,
     "metadata": {},
     "output_type": "execute_result"
    }
   ],
   "source": [
    "re.elapsed"
   ]
  },
  {
   "cell_type": "code",
   "execution_count": 11,
   "metadata": {
    "collapsed": false
   },
   "outputs": [
    {
     "data": {
      "text/plain": [
       "[array([  0.00000000e+00,   1.00000020e+02,   4.00000080e+02, ...,\n",
       "          9.99999600e+15,   9.99999800e+15,   1.00000000e+16]),\n",
       " array([  0.00000000e+00,   1.00000020e+02,   4.00000080e+02, ...,\n",
       "          9.99999600e+15,   9.99999800e+15,   1.00000000e+16]),\n",
       " array([  0.00000000e+00,   1.00000020e+02,   4.00000080e+02, ...,\n",
       "          9.99999600e+15,   9.99999800e+15,   1.00000000e+16]),\n",
       " array([  0.00000000e+00,   1.00000020e+02,   4.00000080e+02, ...,\n",
       "          9.99999600e+15,   9.99999800e+15,   1.00000000e+16]),\n",
       " array([  0.00000000e+00,   1.00000020e+02,   4.00000080e+02, ...,\n",
       "          9.99999600e+15,   9.99999800e+15,   1.00000000e+16]),\n",
       " array([  0.00000000e+00,   1.00000020e+02,   4.00000080e+02, ...,\n",
       "          9.99999600e+15,   9.99999800e+15,   1.00000000e+16]),\n",
       " array([  0.00000000e+00,   1.00000020e+02,   4.00000080e+02, ...,\n",
       "          9.99999600e+15,   9.99999800e+15,   1.00000000e+16]),\n",
       " array([  0.00000000e+00,   1.00000020e+02,   4.00000080e+02, ...,\n",
       "          9.99999600e+15,   9.99999800e+15,   1.00000000e+16])]"
      ]
     },
     "execution_count": 11,
     "metadata": {},
     "output_type": "execute_result"
    }
   ],
   "source": [
    "re.get()"
   ]
  },
  {
   "cell_type": "code",
   "execution_count": null,
   "metadata": {
    "collapsed": true
   },
   "outputs": [],
   "source": []
  }
 ],
 "metadata": {
  "kernelspec": {
   "display_name": "Python 3",
   "language": "python",
   "name": "python3"
  },
  "language_info": {
   "codemirror_mode": {
    "name": "ipython",
    "version": 3
   },
   "file_extension": ".py",
   "mimetype": "text/x-python",
   "name": "python",
   "nbconvert_exporter": "python",
   "pygments_lexer": "ipython3",
   "version": "3.6.0"
  }
 },
 "nbformat": 4,
 "nbformat_minor": 2
}

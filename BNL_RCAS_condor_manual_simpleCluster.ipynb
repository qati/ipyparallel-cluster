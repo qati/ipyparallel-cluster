{
 "cells": [
  {
   "cell_type": "markdown",
   "metadata": {},
   "source": [
    "## Number of engines"
   ]
  },
  {
   "cell_type": "code",
   "execution_count": 1,
   "metadata": {
    "collapsed": true
   },
   "outputs": [],
   "source": [
    "N=8"
   ]
  },
  {
   "cell_type": "markdown",
   "metadata": {},
   "source": [
    "## profile name"
   ]
  },
  {
   "cell_type": "code",
   "execution_count": 2,
   "metadata": {
    "collapsed": true
   },
   "outputs": [],
   "source": [
    "profile=\"manual_condor\""
   ]
  },
  {
   "cell_type": "markdown",
   "metadata": {},
   "source": [
    "## create profile"
   ]
  },
  {
   "cell_type": "code",
   "execution_count": 3,
   "metadata": {
    "collapsed": false
   },
   "outputs": [
    {
     "name": "stderr",
     "output_type": "stream",
     "text": [
      "[ProfileCreate] Generating default config file: '/direct/phenix+u/abagoly/.ipython/profile_manual_condor/ipython_config.py'\n",
      "[ProfileCreate] Generating default config file: '/direct/phenix+u/abagoly/.ipython/profile_manual_condor/ipython_kernel_config.py'\n",
      "[ProfileCreate] Generating default config file: '/direct/phenix+u/abagoly/.ipython/profile_manual_condor/ipcontroller_config.py'\n",
      "[ProfileCreate] Generating default config file: '/direct/phenix+u/abagoly/.ipython/profile_manual_condor/ipengine_config.py'\n",
      "[ProfileCreate] Generating default config file: '/direct/phenix+u/abagoly/.ipython/profile_manual_condor/ipcluster_config.py'\n"
     ]
    }
   ],
   "source": [
    "%%bash -s \"$profile\"\n",
    "\n",
    "profile=\"manual_condor\"\n",
    "\n",
    "echo $profile > .profile_name\n",
    "\n",
    "ipython profile create --parallel --profile=\"$1\""
   ]
  },
  {
   "cell_type": "markdown",
   "metadata": {},
   "source": [
    "## start controllel"
   ]
  },
  {
   "cell_type": "code",
   "execution_count": 7,
   "metadata": {
    "collapsed": false
   },
   "outputs": [
    {
     "name": "stdout",
     "output_type": "stream",
     "text": [
      "Starting job # 3 in a separate thread.\n"
     ]
    }
   ],
   "source": [
    "%%bash --bg --proc ipcontroller --out \"/direct/phenix+u/abagoly/jupyter/logs/ipcontroller.out\" -s \"$profile\"\n",
    "export PATH=\"/direct/phenix+u/abagoly/jupyter/.anaconda3/bin/:$PATH\"\n",
    "\n",
    "\n",
    "ipcontroller --ip=\"*\" --profile=\"$1\""
   ]
  },
  {
   "cell_type": "markdown",
   "metadata": {},
   "source": [
    "#### kill the controller"
   ]
  },
  {
   "cell_type": "code",
   "execution_count": 6,
   "metadata": {
    "collapsed": true
   },
   "outputs": [],
   "source": [
    "ipcontroller.kill()"
   ]
  },
  {
   "cell_type": "markdown",
   "metadata": {},
   "source": [
    "## start engines"
   ]
  },
  {
   "cell_type": "code",
   "execution_count": 20,
   "metadata": {
    "collapsed": false
   },
   "outputs": [
    {
     "name": "stdout",
     "output_type": "stream",
     "text": [
      "Submitting job(s)........\n",
      "8 job(s) submitted to cluster 1046592.\n"
     ]
    }
   ],
   "source": [
    "%%bash -s \"$N\" \"$profile\"\n",
    "\n",
    "engineLoc=\"/direct/phenix+u/abagoly/jupyter/.anaconda3/bin/\"\n",
    "lfile=\"/direct/phenix+u/abagoly/jupyter/logs/engine\"\n",
    "\n",
    "condor_submit condor.job -a \"N=$1\" -a \"engineLocation=${engineLoc}\"  -a \"profile=$2\" -a \"HostName=`hostname`\" \\\n",
    "                         -a \"file=$lfile\" "
   ]
  },
  {
   "cell_type": "markdown",
   "metadata": {},
   "source": [
    "#### get engines status"
   ]
  },
  {
   "cell_type": "code",
   "execution_count": 22,
   "metadata": {
    "collapsed": false
   },
   "outputs": [
    {
     "name": "stdout",
     "output_type": "stream",
     "text": [
      "\n",
      "\n",
      "-- Schedd: rcas2066.rcf.bnl.gov : <130.199.180.196:53549?...\n",
      " ID      OWNER            SUBMITTED     RUN_TIME ST PRI SIZE CMD               \n",
      "1046592.0   abagoly         4/30 05:48   0+00:02:23 R  0   0.0  ipengine --profile\n",
      "1046592.1   abagoly         4/30 05:48   0+00:01:05 R  0   0.0  ipengine --profile\n",
      "1046592.2   abagoly         4/30 05:48   0+00:01:05 R  0   0.0  ipengine --profile\n",
      "1046592.3   abagoly         4/30 05:48   0+00:01:04 R  0   0.0  ipengine --profile\n",
      "1046592.4   abagoly         4/30 05:48   0+00:01:04 R  0   0.0  ipengine --profile\n",
      "1046592.5   abagoly         4/30 05:48   0+00:01:04 R  0   0.0  ipengine --profile\n",
      "1046592.6   abagoly         4/30 05:48   0+00:01:04 R  0   0.0  ipengine --profile\n",
      "1046592.7   abagoly         4/30 05:48   0+00:01:04 R  0   0.0  ipengine --profile\n",
      "\n",
      "8 jobs; 0 completed, 0 removed, 0 idle, 8 running, 0 held, 0 suspended\n"
     ]
    }
   ],
   "source": [
    "%%bash\n",
    "condor_q abagoly"
   ]
  },
  {
   "cell_type": "markdown",
   "metadata": {},
   "source": [
    "#### kill engines"
   ]
  },
  {
   "cell_type": "code",
   "execution_count": 40,
   "metadata": {
    "collapsed": false
   },
   "outputs": [
    {
     "name": "stdout",
     "output_type": "stream",
     "text": [
      "All jobs of user \"abagoly\" have been marked for removal\n"
     ]
    }
   ],
   "source": [
    "%%bash\n",
    "condor_rm abagoly"
   ]
  },
  {
   "cell_type": "markdown",
   "metadata": {},
   "source": [
    "# Using the cluster"
   ]
  },
  {
   "cell_type": "code",
   "execution_count": 23,
   "metadata": {
    "collapsed": true
   },
   "outputs": [],
   "source": [
    "import numpy as np\n",
    "from ipyparallel import Client"
   ]
  },
  {
   "cell_type": "code",
   "execution_count": 24,
   "metadata": {
    "collapsed": false
   },
   "outputs": [],
   "source": [
    "c = Client(profile=profile)"
   ]
  },
  {
   "cell_type": "code",
   "execution_count": 25,
   "metadata": {
    "collapsed": false
   },
   "outputs": [
    {
     "data": {
      "text/plain": [
       "{'unassigned': 0,\n",
       " 0: {'completed': 0, 'queue': 0, 'tasks': 0},\n",
       " 1: {'completed': 0, 'queue': 0, 'tasks': 0},\n",
       " 2: {'completed': 0, 'queue': 0, 'tasks': 0},\n",
       " 3: {'completed': 0, 'queue': 0, 'tasks': 0},\n",
       " 4: {'completed': 0, 'queue': 0, 'tasks': 0},\n",
       " 5: {'completed': 0, 'queue': 0, 'tasks': 0},\n",
       " 6: {'completed': 0, 'queue': 0, 'tasks': 0},\n",
       " 7: {'completed': 0, 'queue': 0, 'tasks': 0}}"
      ]
     },
     "execution_count": 25,
     "metadata": {},
     "output_type": "execute_result"
    }
   ],
   "source": [
    "c.queue_status()"
   ]
  },
  {
   "cell_type": "code",
   "execution_count": 26,
   "metadata": {
    "collapsed": false
   },
   "outputs": [],
   "source": [
    "dv=c[:]"
   ]
  },
  {
   "cell_type": "code",
   "execution_count": 27,
   "metadata": {
    "collapsed": true
   },
   "outputs": [],
   "source": [
    "def sq(x):\n",
    "    return x*x"
   ]
  },
  {
   "cell_type": "code",
   "execution_count": 28,
   "metadata": {
    "collapsed": true
   },
   "outputs": [],
   "source": [
    "v=np.linspace(0,1e8,1e7)"
   ]
  },
  {
   "cell_type": "code",
   "execution_count": 29,
   "metadata": {
    "collapsed": true
   },
   "outputs": [],
   "source": [
    "re=dv.map_async(sq, [v]*8)"
   ]
  },
  {
   "cell_type": "code",
   "execution_count": 36,
   "metadata": {
    "collapsed": false
   },
   "outputs": [
    {
     "data": {
      "text/plain": [
       "['ok', 'ok', 'ok', 'ok', 'ok', 'ok', 'ok', 'ok']"
      ]
     },
     "execution_count": 36,
     "metadata": {},
     "output_type": "execute_result"
    }
   ],
   "source": [
    "re.status"
   ]
  },
  {
   "cell_type": "code",
   "execution_count": 37,
   "metadata": {
    "collapsed": false
   },
   "outputs": [
    {
     "data": {
      "text/plain": [
       "13.068348"
      ]
     },
     "execution_count": 37,
     "metadata": {},
     "output_type": "execute_result"
    }
   ],
   "source": [
    "re.elapsed"
   ]
  },
  {
   "cell_type": "code",
   "execution_count": 39,
   "metadata": {
    "collapsed": false
   },
   "outputs": [
    {
     "data": {
      "text/plain": [
       "[array([  0.00000000e+00,   1.00000020e+02,   4.00000080e+02, ...,\n",
       "          9.99999600e+15,   9.99999800e+15,   1.00000000e+16]),\n",
       " array([  0.00000000e+00,   1.00000020e+02,   4.00000080e+02, ...,\n",
       "          9.99999600e+15,   9.99999800e+15,   1.00000000e+16]),\n",
       " array([  0.00000000e+00,   1.00000020e+02,   4.00000080e+02, ...,\n",
       "          9.99999600e+15,   9.99999800e+15,   1.00000000e+16]),\n",
       " array([  0.00000000e+00,   1.00000020e+02,   4.00000080e+02, ...,\n",
       "          9.99999600e+15,   9.99999800e+15,   1.00000000e+16]),\n",
       " array([  0.00000000e+00,   1.00000020e+02,   4.00000080e+02, ...,\n",
       "          9.99999600e+15,   9.99999800e+15,   1.00000000e+16]),\n",
       " array([  0.00000000e+00,   1.00000020e+02,   4.00000080e+02, ...,\n",
       "          9.99999600e+15,   9.99999800e+15,   1.00000000e+16]),\n",
       " array([  0.00000000e+00,   1.00000020e+02,   4.00000080e+02, ...,\n",
       "          9.99999600e+15,   9.99999800e+15,   1.00000000e+16]),\n",
       " array([  0.00000000e+00,   1.00000020e+02,   4.00000080e+02, ...,\n",
       "          9.99999600e+15,   9.99999800e+15,   1.00000000e+16])]"
      ]
     },
     "execution_count": 39,
     "metadata": {},
     "output_type": "execute_result"
    }
   ],
   "source": [
    "re.get()"
   ]
  },
  {
   "cell_type": "code",
   "execution_count": null,
   "metadata": {
    "collapsed": true
   },
   "outputs": [],
   "source": []
  }
 ],
 "metadata": {
  "kernelspec": {
   "display_name": "Python 3",
   "language": "python",
   "name": "python3"
  },
  "language_info": {
   "codemirror_mode": {
    "name": "ipython",
    "version": 3
   },
   "file_extension": ".py",
   "mimetype": "text/x-python",
   "name": "python",
   "nbconvert_exporter": "python",
   "pygments_lexer": "ipython3",
   "version": "3.6.0"
  }
 },
 "nbformat": 4,
 "nbformat_minor": 2
}
